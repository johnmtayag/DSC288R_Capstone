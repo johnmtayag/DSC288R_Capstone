{
 "cells": [
  {
   "cell_type": "code",
   "execution_count": 1,
   "id": "fdc2a634-e3fa-4e5e-a9c1-46a98cd78613",
   "metadata": {},
   "outputs": [],
   "source": [
    "import numpy as np\n",
    "import pandas as pd\n",
    "import os\n",
    "from scripts.prepare_datasets import get_valid_paths\n",
    "from scripts.prepare_datasets import copy_directory_structure"
   ]
  },
  {
   "cell_type": "code",
   "execution_count": 2,
   "id": "86d2ca20-93ee-423e-92f5-f9ef7651931a",
   "metadata": {},
   "outputs": [],
   "source": [
    "##### EDIT DIRECTORY VARIABLES\n",
    "root = \"S:/CheXpert\"\n",
    "source_train_folder_name = \"CheXpert-v1.0 batch 4 (train 3)\"\n",
    "source_test_folder_name = \"CheXpert-v1.0 batch 1 (validate & csv)\"\n",
    "train_labels_file_name = \"train_cheXbert.csv\"\n",
    "test_labels_file_name = \"valid.csv\"\n",
    "\n",
    "train_folder_name = \"train\"\n",
    "test_folder_name = \"test\"\n",
    "train2_folder_name = \"train2\"\n",
    "test2_folder_name = \"test2\"\n",
    "#####\n",
    "\n",
    "### Instantiate Variables\n",
    "\n",
    "# Source: This is where the raw image files are stored (the next level are patient folders)\n",
    "source_train_root = f\"{root}/{source_train_folder_name}/\"\n",
    "source_test_root  = f\"{root}/{source_test_folder_name}/valid/\"\n",
    "\n",
    "# These are the output roots for file paths being added to the train/test files\n",
    "train_root = f\"{root}/{train_folder_name}/\"\n",
    "test_root = f\"{root}/{test_folder_name}/\"\n",
    "train2_root = f\"{root}/{train2_folder_name}/\"\n",
    "test2_root = f\"{root}/{test2_folder_name}/\"\n",
    "\n",
    "# These are the file paths to the labels\n",
    "train_file_path = f\"{root}/{train_labels_file_name}\"\n",
    "test_file_path = f\"{root}/{source_test_folder_name}/{test_labels_file_name}\"\n",
    "\n",
    "# This is the original root for the train/test csv files\n",
    "base_path = \"CheXpert-v1.0/train/\"\n"
   ]
  },
  {
   "cell_type": "code",
   "execution_count": 3,
   "id": "67620c08-2846-4b92-92cf-a8b797941f64",
   "metadata": {},
   "outputs": [],
   "source": [
    "### Create new directories if necessary\n",
    "copy_directory_structure(source_train_root, train_root)\n",
    "copy_directory_structure(source_test_root, test_root)\n",
    "copy_directory_structure(source_train_root, train2_root)\n",
    "copy_directory_structure(source_test_root, test2_root)"
   ]
  },
  {
   "cell_type": "code",
   "execution_count": 5,
   "id": "5da7fa9e-6b1d-46fb-9f6f-a4d8ad97957d",
   "metadata": {},
   "outputs": [
    {
     "name": "stdout",
     "output_type": "stream",
     "text": [
      "# rows in train_df: 223414\n",
      "# rows in test_df: 234\n"
     ]
    }
   ],
   "source": [
    "### Load the training/validation csvs\n",
    "train_df = pd.read_csv(train_file_path)\n",
    "test_df = pd.read_csv(test_file_path)\n",
    "\n",
    "print(f\"# rows in train_df: {len(train_df)}\")\n",
    "print(f\"# rows in test_df: {len(test_df)}\")"
   ]
  },
  {
   "cell_type": "code",
   "execution_count": 6,
   "id": "ec2dff74-5dd2-458d-8728-a57d8a149c19",
   "metadata": {},
   "outputs": [
    {
     "name": "stdout",
     "output_type": "stream",
     "text": [
      "# rows in train_df: 40977\n",
      "# rows in test_df: 234\n"
     ]
    }
   ],
   "source": [
    "### Filter the training and validation data frames\n",
    "# Loop through the directories and get paths that exist\n",
    "valid_train_paths = get_valid_paths(source_train_root)\n",
    "valid_test_paths = get_valid_paths(source_test_root)\n",
    "\n",
    "# Extract the file paths from the base path\n",
    "train_df[\"floating_file_path\"] = train_df[\"Path\"].str[len(base_path):]\n",
    "\n",
    "test_df[\"floating_file_path\"] = test_df[\"Path\"].str[len(base_path):]\n",
    "\n",
    "# Add new file paths\n",
    "train_df[\"source_file_path\"] = source_train_root + train_df[\"floating_file_path\"]\n",
    "train_df[\"train_file_path\"] = train_root + train_df[\"floating_file_path\"]\n",
    "train_df[\"train2_file_path\"] = train2_root + train_df[\"floating_file_path\"]\n",
    "\n",
    "test_df[\"source_file_path\"] = source_test_root + test_df[\"floating_file_path\"]\n",
    "test_df[\"test_file_path\"] = test_root + test_df[\"floating_file_path\"]\n",
    "test_df[\"test2_file_path\"] = test2_root + test_df[\"floating_file_path\"]\n",
    "\n",
    "# # Filter the dfs for only valid paths from the source\n",
    "train_df = train_df[train_df[\"source_file_path\"].isin(valid_train_paths)]\n",
    "test_df = test_df[test_df[\"source_file_path\"].isin(valid_test_paths)]\n",
    "\n",
    "print(f\"# rows in train_df: {len(train_df)}\")\n",
    "print(f\"# rows in test_df: {len(test_df)}\")"
   ]
  },
  {
   "cell_type": "code",
   "execution_count": 7,
   "id": "e2631a34-e99d-4136-b38f-b7d20d2da603",
   "metadata": {},
   "outputs": [
    {
     "name": "stdout",
     "output_type": "stream",
     "text": [
      "# rows in train_df: 39371\n",
      "# rows in test_df: 202\n"
     ]
    }
   ],
   "source": [
    "### Filter both train and valid dfs for only specific variable values\n",
    "train_df = train_df[train_df[\"Frontal/Lateral\"]==\"Frontal\"].reset_index(drop=True)\n",
    "test_df = test_df[test_df[\"Frontal/Lateral\"]==\"Frontal\"].reset_index(drop=True)\n",
    "\n",
    "print(f\"# rows in train_df: {len(train_df)}\")\n",
    "print(f\"# rows in test_df: {len(test_df)}\")"
   ]
  },
  {
   "cell_type": "code",
   "execution_count": 8,
   "id": "1a3cc92a-0e8f-4dc6-8a18-9c15d8e58e14",
   "metadata": {},
   "outputs": [],
   "source": [
    "### Save new training and validation csvs\n",
    "train_df.to_csv(f\"{root}/train_data.csv\", index=False)\n",
    "\n",
    "# Rename the validation csv to test\n",
    "test_df.to_csv(f\"{root}/test_data.csv\", index=False)"
   ]
  }
 ],
 "metadata": {
  "kernelspec": {
   "display_name": "Python 3 (ipykernel)",
   "language": "python",
   "name": "python3"
  },
  "language_info": {
   "codemirror_mode": {
    "name": "ipython",
    "version": 3
   },
   "file_extension": ".py",
   "mimetype": "text/x-python",
   "name": "python",
   "nbconvert_exporter": "python",
   "pygments_lexer": "ipython3",
   "version": "3.12.7"
  }
 },
 "nbformat": 4,
 "nbformat_minor": 5
}

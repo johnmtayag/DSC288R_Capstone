{
 "cells": [
  {
   "cell_type": "code",
   "execution_count": 1,
   "id": "fdc2a634-e3fa-4e5e-a9c1-46a98cd78613",
   "metadata": {},
   "outputs": [],
   "source": [
    "import numpy as np\n",
    "import pandas as pd\n",
    "import os\n",
    "from scripts.prepare_datasets import copy_directory_structure, get_valid_paths\n",
    "from scripts.preprocessing import scale_range, histogram_equalization"
   ]
  },
  {
   "cell_type": "markdown",
   "id": "7ff2d142-fae9-4419-b1ce-633e1ddbd1fe",
   "metadata": {},
   "source": [
    "# Setting up the environment and file folders"
   ]
  },
  {
   "cell_type": "code",
   "execution_count": 2,
   "id": "86d2ca20-93ee-423e-92f5-f9ef7651931a",
   "metadata": {},
   "outputs": [],
   "source": [
    "##### EDIT DIRECTORY VARIABLES\n",
    "root = \"S:/CheXpert\"\n",
    "source_train_folder_name = \"CheXpert-v1.0 batch 4 (train 3)\"\n",
    "source_test_folder_name = \"CheXpert-v1.0 batch 1 (validate & csv)\"\n",
    "train_labels_file_name = \"train_cheXbert.csv\"\n",
    "test_labels_file_name = \"valid.csv\"\n",
    "\n",
    "train_folder_name = \"train\"\n",
    "test_folder_name = \"test\"\n",
    "train2_folder_name = \"train2\"\n",
    "test2_folder_name = \"test2\"\n",
    "#####\n",
    "\n",
    "### Instantiate Variables\n",
    "\n",
    "# Source: This is where the raw image files are stored (the next level are patient folders)\n",
    "source_train_root = f\"{root}/{source_train_folder_name}/\"\n",
    "source_test_root  = f\"{root}/{source_test_folder_name}/valid/\"\n",
    "\n",
    "# These are the output roots for file paths being added to the train/test files\n",
    "train_root = f\"{root}/{train_folder_name}/\"\n",
    "test_root = f\"{root}/{test_folder_name}/\"\n",
    "train2_root = f\"{root}/{train2_folder_name}/\"\n",
    "test2_root = f\"{root}/{test2_folder_name}/\"\n",
    "\n",
    "# These are the file paths to the labels\n",
    "train_file_path = f\"{root}/{train_labels_file_name}\"\n",
    "test_file_path = f\"{root}/{source_test_folder_name}/{test_labels_file_name}\"\n",
    "\n",
    "# This is the original root for the train/test csv files\n",
    "base_path = \"CheXpert-v1.0/train/\"\n"
   ]
  },
  {
   "cell_type": "code",
   "execution_count": 3,
   "id": "67620c08-2846-4b92-92cf-a8b797941f64",
   "metadata": {},
   "outputs": [],
   "source": [
    "### Create new directories if necessary\n",
    "copy_directory_structure(source_train_root, train_root)\n",
    "copy_directory_structure(source_test_root, test_root)\n",
    "copy_directory_structure(source_train_root, train2_root)\n",
    "copy_directory_structure(source_test_root, test2_root)"
   ]
  },
  {
   "cell_type": "code",
   "execution_count": 4,
   "id": "5da7fa9e-6b1d-46fb-9f6f-a4d8ad97957d",
   "metadata": {},
   "outputs": [
    {
     "name": "stdout",
     "output_type": "stream",
     "text": [
      "# rows in train_df: 223414\n",
      "# rows in test_df: 234\n"
     ]
    }
   ],
   "source": [
    "### Load the training/validation csvs\n",
    "train_df = pd.read_csv(train_file_path)\n",
    "test_df = pd.read_csv(test_file_path)\n",
    "\n",
    "print(f\"# rows in train_df: {len(train_df)}\")\n",
    "print(f\"# rows in test_df: {len(test_df)}\")"
   ]
  },
  {
   "cell_type": "code",
   "execution_count": 5,
   "id": "ec2dff74-5dd2-458d-8728-a57d8a149c19",
   "metadata": {},
   "outputs": [
    {
     "name": "stdout",
     "output_type": "stream",
     "text": [
      "# rows in train_df: 40977\n",
      "# rows in test_df: 234\n"
     ]
    }
   ],
   "source": [
    "### Filter the training and validation data frames\n",
    "# Loop through the directories and get paths that exist\n",
    "valid_train_paths = get_valid_paths(source_train_root)\n",
    "valid_test_paths = get_valid_paths(source_test_root)\n",
    "\n",
    "# Extract the file paths from the base path\n",
    "train_df[\"floating_file_path\"] = train_df[\"Path\"].str[len(base_path):]\n",
    "\n",
    "test_df[\"floating_file_path\"] = test_df[\"Path\"].str[len(base_path):]\n",
    "\n",
    "# Add new file paths\n",
    "train_df[\"source_file_path\"] = source_train_root + train_df[\"floating_file_path\"]\n",
    "train_df[\"train_file_path\"] = train_root + train_df[\"floating_file_path\"]\n",
    "train_df[\"train2_file_path\"] = train2_root + train_df[\"floating_file_path\"]\n",
    "\n",
    "test_df[\"source_file_path\"] = source_test_root + test_df[\"floating_file_path\"]\n",
    "test_df[\"test_file_path\"] = test_root + test_df[\"floating_file_path\"]\n",
    "test_df[\"test2_file_path\"] = test2_root + test_df[\"floating_file_path\"]\n",
    "\n",
    "# # Filter the dfs for only valid paths from the source\n",
    "train_df = train_df[train_df[\"source_file_path\"].isin(valid_train_paths)]\n",
    "test_df = test_df[test_df[\"source_file_path\"].isin(valid_test_paths)]\n",
    "\n",
    "print(f\"# rows in train_df: {len(train_df)}\")\n",
    "print(f\"# rows in test_df: {len(test_df)}\")"
   ]
  },
  {
   "cell_type": "code",
   "execution_count": 6,
   "id": "e2631a34-e99d-4136-b38f-b7d20d2da603",
   "metadata": {},
   "outputs": [
    {
     "ename": "NameError",
     "evalue": "name 'train_filter_out' is not defined",
     "output_type": "error",
     "traceback": [
      "\u001b[1;31m---------------------------------------------------------------------------\u001b[0m",
      "\u001b[1;31mNameError\u001b[0m                                 Traceback (most recent call last)",
      "Cell \u001b[1;32mIn[6], line 26\u001b[0m\n\u001b[0;32m      3\u001b[0m test_df \u001b[38;5;241m=\u001b[39m test_df[test_df[\u001b[38;5;124m\"\u001b[39m\u001b[38;5;124mFrontal/Lateral\u001b[39m\u001b[38;5;124m\"\u001b[39m]\u001b[38;5;241m==\u001b[39m\u001b[38;5;124m\"\u001b[39m\u001b[38;5;124mFrontal\u001b[39m\u001b[38;5;124m\"\u001b[39m]\u001b[38;5;241m.\u001b[39mreset_index(drop\u001b[38;5;241m=\u001b[39m\u001b[38;5;28;01mTrue\u001b[39;00m)\n\u001b[0;32m      5\u001b[0m \u001b[38;5;66;03m### Filter out invalid images found during EDA\u001b[39;00m\n\u001b[0;32m      6\u001b[0m \u001b[38;5;66;03m# train_filter_out = [f\"{source_train_root}patient48043/study1/view2_frontal.jpg\", \u001b[39;00m\n\u001b[0;32m      7\u001b[0m \u001b[38;5;66;03m#                     f\"{source_train_root}patient44163/study1/view1_frontal.jpg\",\u001b[39;00m\n\u001b[1;32m   (...)\u001b[0m\n\u001b[0;32m     23\u001b[0m \u001b[38;5;66;03m#                     f\"{source_train_root}patient51479/study1/view1_frontal.jpg\"\u001b[39;00m\n\u001b[0;32m     24\u001b[0m \u001b[38;5;66;03m#                     ]\u001b[39;00m\n\u001b[1;32m---> 26\u001b[0m train_df \u001b[38;5;241m=\u001b[39m train_df[\u001b[38;5;241m~\u001b[39mtrain_df[\u001b[38;5;124m\"\u001b[39m\u001b[38;5;124msource_file_path\u001b[39m\u001b[38;5;124m\"\u001b[39m]\u001b[38;5;241m.\u001b[39misin(train_filter_out)]\n\u001b[0;32m     28\u001b[0m \u001b[38;5;28mprint\u001b[39m(\u001b[38;5;124mf\u001b[39m\u001b[38;5;124m\"\u001b[39m\u001b[38;5;124m# rows in train_df: \u001b[39m\u001b[38;5;132;01m{\u001b[39;00m\u001b[38;5;28mlen\u001b[39m(train_df)\u001b[38;5;132;01m}\u001b[39;00m\u001b[38;5;124m\"\u001b[39m)\n\u001b[0;32m     29\u001b[0m \u001b[38;5;28mprint\u001b[39m(\u001b[38;5;124mf\u001b[39m\u001b[38;5;124m\"\u001b[39m\u001b[38;5;124m# rows in test_df: \u001b[39m\u001b[38;5;132;01m{\u001b[39;00m\u001b[38;5;28mlen\u001b[39m(test_df)\u001b[38;5;132;01m}\u001b[39;00m\u001b[38;5;124m\"\u001b[39m)\n",
      "\u001b[1;31mNameError\u001b[0m: name 'train_filter_out' is not defined"
     ]
    }
   ],
   "source": [
    "### Filter both train and valid dfs for only specific variable values\n",
    "train_df = train_df[train_df[\"Frontal/Lateral\"]==\"Frontal\"].reset_index(drop=True)\n",
    "test_df = test_df[test_df[\"Frontal/Lateral\"]==\"Frontal\"].reset_index(drop=True)\n",
    "\n",
    "### Filter out invalid images found during EDA\n",
    "# train_filter_out = [f\"{source_train_root}patient48043/study1/view2_frontal.jpg\", \n",
    "#                     f\"{source_train_root}patient44163/study1/view1_frontal.jpg\",\n",
    "#                     f\"{source_train_root}patient53320/study1/view1_frontal.jpg\",\n",
    "#                     f\"{source_train_root}patient57976/study1/view2_frontal.jpg\"\n",
    "#                     f\"{source_train_root}patient55832/study2/view1_frontal.jpg\",\n",
    "#                     f\"{source_train_root}patient64539/study1/view1_frontal.jpg\",\n",
    "#                     f\"{source_train_root}patient46703/study2/view1_frontal.jpg\",\n",
    "#                     f\"{source_train_root}patient50284/study3/view1_frontal.jpg\",\n",
    "#                     f\"{source_train_root}patient46278/study1/view1_frontal.jpg\",\n",
    "#                     f\"{source_train_root}patient54044/study1/view1_frontal.jpg\",\n",
    "#                     f\"{source_train_root}patient43440/study3/view1_frontal.jpg\",\n",
    "#                     f\"{source_train_root}patient48945/study1/view1_frontal.jpg\",\n",
    "#                     f\"{source_train_root}patient60655/study1/view1_frontal.jpg\",\n",
    "#                     f\"{source_train_root}patient56384/study1/view1_frontal.jpg\",\n",
    "#                     f\"{source_train_root}patient45258/study3/view1_frontal.jpg\",\n",
    "#                     f\"{source_train_root}patient46319/study3/view1_frontal.jpg\",\n",
    "#                     f\"{source_train_root}patient51052/study1/view2_frontal.jpg\",\n",
    "#                     f\"{source_train_root}patient51479/study1/view1_frontal.jpg\"\n",
    "#                     ]\n",
    "\n",
    "train_df = train_df[~train_df[\"source_file_path\"].isin(train_filter_out)]\n",
    "\n",
    "print(f\"# rows in train_df: {len(train_df)}\")\n",
    "print(f\"# rows in test_df: {len(test_df)}\")"
   ]
  },
  {
   "cell_type": "code",
   "execution_count": null,
   "id": "1a3cc92a-0e8f-4dc6-8a18-9c15d8e58e14",
   "metadata": {},
   "outputs": [],
   "source": [
    "### Save new training and validation csvs\n",
    "train_df.to_csv(f\"{root}/train_data.csv\", index=False)\n",
    "\n",
    "# Rename the validation csv to test\n",
    "test_df.to_csv(f\"{root}/test_data.csv\", index=False)"
   ]
  }
 ],
 "metadata": {
  "kernelspec": {
   "display_name": "Python 3 (ipykernel)",
   "language": "python",
   "name": "python3"
  },
  "language_info": {
   "codemirror_mode": {
    "name": "ipython",
    "version": 3
   },
   "file_extension": ".py",
   "mimetype": "text/x-python",
   "name": "python",
   "nbconvert_exporter": "python",
   "pygments_lexer": "ipython3",
   "version": "3.12.7"
  }
 },
 "nbformat": 4,
 "nbformat_minor": 5
}
